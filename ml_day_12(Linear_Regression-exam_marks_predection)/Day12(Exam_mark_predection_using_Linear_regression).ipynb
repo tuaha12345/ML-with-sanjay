{
  "nbformat": 4,
  "nbformat_minor": 0,
  "metadata": {
    "colab": {
      "provenance": []
    },
    "kernelspec": {
      "name": "python3",
      "display_name": "Python 3"
    },
    "language_info": {
      "name": "python"
    }
  },
  "cells": [
    {
      "cell_type": "markdown",
      "source": [
        "Import Libraries"
      ],
      "metadata": {
        "id": "AVkflpOoRa0F"
      }
    },
    {
      "cell_type": "code",
      "source": [
        "import pandas as pd\n",
        "from sklearn.linear_model import LinearRegression"
      ],
      "metadata": {
        "id": "1-lteGBWRcn1"
      },
      "execution_count": null,
      "outputs": []
    },
    {
      "cell_type": "markdown",
      "source": [
        "Load Dataset from Local Directory"
      ],
      "metadata": {
        "id": "kVcWiDyzRjj1"
      }
    },
    {
      "cell_type": "code",
      "source": [
        "from google.colab import files\n",
        "uploaded=files.upload()"
      ],
      "metadata": {
        "id": "BhyFFzGgRm41",
        "colab": {
          "base_uri": "https://localhost:8080/",
          "height": 73
        },
        "outputId": "cc8eb076-c1ab-4214-c474-580aabc0e304"
      },
      "execution_count": null,
      "outputs": [
        {
          "output_type": "display_data",
          "data": {
            "text/plain": [
              "<IPython.core.display.HTML object>"
            ],
            "text/html": [
              "\n",
              "     <input type=\"file\" id=\"files-981b2d25-6865-4d8b-98f6-89af2b009575\" name=\"files[]\" multiple disabled\n",
              "        style=\"border:none\" />\n",
              "     <output id=\"result-981b2d25-6865-4d8b-98f6-89af2b009575\">\n",
              "      Upload widget is only available when the cell has been executed in the\n",
              "      current browser session. Please rerun this cell to enable.\n",
              "      </output>\n",
              "      <script>// Copyright 2017 Google LLC\n",
              "//\n",
              "// Licensed under the Apache License, Version 2.0 (the \"License\");\n",
              "// you may not use this file except in compliance with the License.\n",
              "// You may obtain a copy of the License at\n",
              "//\n",
              "//      http://www.apache.org/licenses/LICENSE-2.0\n",
              "//\n",
              "// Unless required by applicable law or agreed to in writing, software\n",
              "// distributed under the License is distributed on an \"AS IS\" BASIS,\n",
              "// WITHOUT WARRANTIES OR CONDITIONS OF ANY KIND, either express or implied.\n",
              "// See the License for the specific language governing permissions and\n",
              "// limitations under the License.\n",
              "\n",
              "/**\n",
              " * @fileoverview Helpers for google.colab Python module.\n",
              " */\n",
              "(function(scope) {\n",
              "function span(text, styleAttributes = {}) {\n",
              "  const element = document.createElement('span');\n",
              "  element.textContent = text;\n",
              "  for (const key of Object.keys(styleAttributes)) {\n",
              "    element.style[key] = styleAttributes[key];\n",
              "  }\n",
              "  return element;\n",
              "}\n",
              "\n",
              "// Max number of bytes which will be uploaded at a time.\n",
              "const MAX_PAYLOAD_SIZE = 100 * 1024;\n",
              "\n",
              "function _uploadFiles(inputId, outputId) {\n",
              "  const steps = uploadFilesStep(inputId, outputId);\n",
              "  const outputElement = document.getElementById(outputId);\n",
              "  // Cache steps on the outputElement to make it available for the next call\n",
              "  // to uploadFilesContinue from Python.\n",
              "  outputElement.steps = steps;\n",
              "\n",
              "  return _uploadFilesContinue(outputId);\n",
              "}\n",
              "\n",
              "// This is roughly an async generator (not supported in the browser yet),\n",
              "// where there are multiple asynchronous steps and the Python side is going\n",
              "// to poll for completion of each step.\n",
              "// This uses a Promise to block the python side on completion of each step,\n",
              "// then passes the result of the previous step as the input to the next step.\n",
              "function _uploadFilesContinue(outputId) {\n",
              "  const outputElement = document.getElementById(outputId);\n",
              "  const steps = outputElement.steps;\n",
              "\n",
              "  const next = steps.next(outputElement.lastPromiseValue);\n",
              "  return Promise.resolve(next.value.promise).then((value) => {\n",
              "    // Cache the last promise value to make it available to the next\n",
              "    // step of the generator.\n",
              "    outputElement.lastPromiseValue = value;\n",
              "    return next.value.response;\n",
              "  });\n",
              "}\n",
              "\n",
              "/**\n",
              " * Generator function which is called between each async step of the upload\n",
              " * process.\n",
              " * @param {string} inputId Element ID of the input file picker element.\n",
              " * @param {string} outputId Element ID of the output display.\n",
              " * @return {!Iterable<!Object>} Iterable of next steps.\n",
              " */\n",
              "function* uploadFilesStep(inputId, outputId) {\n",
              "  const inputElement = document.getElementById(inputId);\n",
              "  inputElement.disabled = false;\n",
              "\n",
              "  const outputElement = document.getElementById(outputId);\n",
              "  outputElement.innerHTML = '';\n",
              "\n",
              "  const pickedPromise = new Promise((resolve) => {\n",
              "    inputElement.addEventListener('change', (e) => {\n",
              "      resolve(e.target.files);\n",
              "    });\n",
              "  });\n",
              "\n",
              "  const cancel = document.createElement('button');\n",
              "  inputElement.parentElement.appendChild(cancel);\n",
              "  cancel.textContent = 'Cancel upload';\n",
              "  const cancelPromise = new Promise((resolve) => {\n",
              "    cancel.onclick = () => {\n",
              "      resolve(null);\n",
              "    };\n",
              "  });\n",
              "\n",
              "  // Wait for the user to pick the files.\n",
              "  const files = yield {\n",
              "    promise: Promise.race([pickedPromise, cancelPromise]),\n",
              "    response: {\n",
              "      action: 'starting',\n",
              "    }\n",
              "  };\n",
              "\n",
              "  cancel.remove();\n",
              "\n",
              "  // Disable the input element since further picks are not allowed.\n",
              "  inputElement.disabled = true;\n",
              "\n",
              "  if (!files) {\n",
              "    return {\n",
              "      response: {\n",
              "        action: 'complete',\n",
              "      }\n",
              "    };\n",
              "  }\n",
              "\n",
              "  for (const file of files) {\n",
              "    const li = document.createElement('li');\n",
              "    li.append(span(file.name, {fontWeight: 'bold'}));\n",
              "    li.append(span(\n",
              "        `(${file.type || 'n/a'}) - ${file.size} bytes, ` +\n",
              "        `last modified: ${\n",
              "            file.lastModifiedDate ? file.lastModifiedDate.toLocaleDateString() :\n",
              "                                    'n/a'} - `));\n",
              "    const percent = span('0% done');\n",
              "    li.appendChild(percent);\n",
              "\n",
              "    outputElement.appendChild(li);\n",
              "\n",
              "    const fileDataPromise = new Promise((resolve) => {\n",
              "      const reader = new FileReader();\n",
              "      reader.onload = (e) => {\n",
              "        resolve(e.target.result);\n",
              "      };\n",
              "      reader.readAsArrayBuffer(file);\n",
              "    });\n",
              "    // Wait for the data to be ready.\n",
              "    let fileData = yield {\n",
              "      promise: fileDataPromise,\n",
              "      response: {\n",
              "        action: 'continue',\n",
              "      }\n",
              "    };\n",
              "\n",
              "    // Use a chunked sending to avoid message size limits. See b/62115660.\n",
              "    let position = 0;\n",
              "    do {\n",
              "      const length = Math.min(fileData.byteLength - position, MAX_PAYLOAD_SIZE);\n",
              "      const chunk = new Uint8Array(fileData, position, length);\n",
              "      position += length;\n",
              "\n",
              "      const base64 = btoa(String.fromCharCode.apply(null, chunk));\n",
              "      yield {\n",
              "        response: {\n",
              "          action: 'append',\n",
              "          file: file.name,\n",
              "          data: base64,\n",
              "        },\n",
              "      };\n",
              "\n",
              "      let percentDone = fileData.byteLength === 0 ?\n",
              "          100 :\n",
              "          Math.round((position / fileData.byteLength) * 100);\n",
              "      percent.textContent = `${percentDone}% done`;\n",
              "\n",
              "    } while (position < fileData.byteLength);\n",
              "  }\n",
              "\n",
              "  // All done.\n",
              "  yield {\n",
              "    response: {\n",
              "      action: 'complete',\n",
              "    }\n",
              "  };\n",
              "}\n",
              "\n",
              "scope.google = scope.google || {};\n",
              "scope.google.colab = scope.google.colab || {};\n",
              "scope.google.colab._files = {\n",
              "  _uploadFiles,\n",
              "  _uploadFilesContinue,\n",
              "};\n",
              "})(self);\n",
              "</script> "
            ]
          },
          "metadata": {}
        },
        {
          "output_type": "stream",
          "name": "stdout",
          "text": [
            "Saving marks.csv to marks (2).csv\n"
          ]
        }
      ]
    },
    {
      "cell_type": "markdown",
      "source": [
        "Load dataset"
      ],
      "metadata": {
        "id": "lw7zwhIPS84Q"
      }
    },
    {
      "cell_type": "code",
      "source": [
        "dataset=pd.read_csv('marks (2).csv')"
      ],
      "metadata": {
        "id": "N0hC_6FzS-RX"
      },
      "execution_count": null,
      "outputs": []
    },
    {
      "cell_type": "markdown",
      "source": [
        "Load Summarize"
      ],
      "metadata": {
        "id": "_Yd1zhAyTFlw"
      }
    },
    {
      "cell_type": "code",
      "source": [
        "print(dataset.shape)\n",
        "print(dataset.head(5))"
      ],
      "metadata": {
        "colab": {
          "base_uri": "https://localhost:8080/"
        },
        "id": "WJzZk6buTIS3",
        "outputId": "0d0e2fa5-2da1-47af-a7bd-cd00e6445a0b"
      },
      "execution_count": null,
      "outputs": [
        {
          "output_type": "stream",
          "name": "stdout",
          "text": [
            "(141, 3)\n",
            "    e1_score   e2_score  result\n",
            "0  34.623660  78.024693    4.00\n",
            "1  30.286711  43.894998    3.99\n",
            "2  35.847409  72.902198    2.50\n",
            "3  60.182599  86.308552    3.75\n",
            "4  79.032736  75.344376    3.55\n"
          ]
        }
      ]
    },
    {
      "cell_type": "markdown",
      "source": [
        "Finding and removing Nan values from our features X"
      ],
      "metadata": {
        "id": "PWii0mwSTVDe"
      }
    },
    {
      "cell_type": "code",
      "source": [
        "dataset.columns[dataset.isna().any()]"
      ],
      "metadata": {
        "colab": {
          "base_uri": "https://localhost:8080/"
        },
        "id": "g61wcmJuTZ93",
        "outputId": "cc0b0f4a-34c9-4163-ca7b-d8c45ced01a0"
      },
      "execution_count": null,
      "outputs": [
        {
          "output_type": "execute_result",
          "data": {
            "text/plain": [
              "Index(['e1_score'], dtype='object')"
            ]
          },
          "metadata": {},
          "execution_count": 26
        }
      ]
    },
    {
      "cell_type": "code",
      "source": [
        "dataset.e1_score=dataset.e1_score.fillna(dataset.e1_score.mean())"
      ],
      "metadata": {
        "id": "U9DUXWDUTwVu"
      },
      "execution_count": null,
      "outputs": []
    },
    {
      "cell_type": "code",
      "source": [
        "dataset"
      ],
      "metadata": {
        "colab": {
          "base_uri": "https://localhost:8080/",
          "height": 424
        },
        "id": "u1y5ZamaURZX",
        "outputId": "60a8c97b-d842-4911-e4a5-a2dc1269d1fb"
      },
      "execution_count": null,
      "outputs": [
        {
          "output_type": "execute_result",
          "data": {
            "text/plain": [
              "      e1_score   e2_score  result\n",
              "0    34.623660  78.024693    4.00\n",
              "1    30.286711  43.894998    3.99\n",
              "2    35.847409  72.902198    2.50\n",
              "3    60.182599  86.308552    3.75\n",
              "4    79.032736  75.344376    3.55\n",
              "..         ...        ...     ...\n",
              "136   5.125000  76.158000    2.56\n",
              "137  13.154000  88.145000    2.94\n",
              "138  61.513856   9.154000    3.75\n",
              "139  40.154500  16.145200    2.94\n",
              "140   2.154000  68.154000    2.94\n",
              "\n",
              "[141 rows x 3 columns]"
            ],
            "text/html": [
              "\n",
              "  <div id=\"df-3f1cdf1b-f1f5-42c6-8dce-2f255706cde4\">\n",
              "    <div class=\"colab-df-container\">\n",
              "      <div>\n",
              "<style scoped>\n",
              "    .dataframe tbody tr th:only-of-type {\n",
              "        vertical-align: middle;\n",
              "    }\n",
              "\n",
              "    .dataframe tbody tr th {\n",
              "        vertical-align: top;\n",
              "    }\n",
              "\n",
              "    .dataframe thead th {\n",
              "        text-align: right;\n",
              "    }\n",
              "</style>\n",
              "<table border=\"1\" class=\"dataframe\">\n",
              "  <thead>\n",
              "    <tr style=\"text-align: right;\">\n",
              "      <th></th>\n",
              "      <th>e1_score</th>\n",
              "      <th>e2_score</th>\n",
              "      <th>result</th>\n",
              "    </tr>\n",
              "  </thead>\n",
              "  <tbody>\n",
              "    <tr>\n",
              "      <th>0</th>\n",
              "      <td>34.623660</td>\n",
              "      <td>78.024693</td>\n",
              "      <td>4.00</td>\n",
              "    </tr>\n",
              "    <tr>\n",
              "      <th>1</th>\n",
              "      <td>30.286711</td>\n",
              "      <td>43.894998</td>\n",
              "      <td>3.99</td>\n",
              "    </tr>\n",
              "    <tr>\n",
              "      <th>2</th>\n",
              "      <td>35.847409</td>\n",
              "      <td>72.902198</td>\n",
              "      <td>2.50</td>\n",
              "    </tr>\n",
              "    <tr>\n",
              "      <th>3</th>\n",
              "      <td>60.182599</td>\n",
              "      <td>86.308552</td>\n",
              "      <td>3.75</td>\n",
              "    </tr>\n",
              "    <tr>\n",
              "      <th>4</th>\n",
              "      <td>79.032736</td>\n",
              "      <td>75.344376</td>\n",
              "      <td>3.55</td>\n",
              "    </tr>\n",
              "    <tr>\n",
              "      <th>...</th>\n",
              "      <td>...</td>\n",
              "      <td>...</td>\n",
              "      <td>...</td>\n",
              "    </tr>\n",
              "    <tr>\n",
              "      <th>136</th>\n",
              "      <td>5.125000</td>\n",
              "      <td>76.158000</td>\n",
              "      <td>2.56</td>\n",
              "    </tr>\n",
              "    <tr>\n",
              "      <th>137</th>\n",
              "      <td>13.154000</td>\n",
              "      <td>88.145000</td>\n",
              "      <td>2.94</td>\n",
              "    </tr>\n",
              "    <tr>\n",
              "      <th>138</th>\n",
              "      <td>61.513856</td>\n",
              "      <td>9.154000</td>\n",
              "      <td>3.75</td>\n",
              "    </tr>\n",
              "    <tr>\n",
              "      <th>139</th>\n",
              "      <td>40.154500</td>\n",
              "      <td>16.145200</td>\n",
              "      <td>2.94</td>\n",
              "    </tr>\n",
              "    <tr>\n",
              "      <th>140</th>\n",
              "      <td>2.154000</td>\n",
              "      <td>68.154000</td>\n",
              "      <td>2.94</td>\n",
              "    </tr>\n",
              "  </tbody>\n",
              "</table>\n",
              "<p>141 rows × 3 columns</p>\n",
              "</div>\n",
              "      <button class=\"colab-df-convert\" onclick=\"convertToInteractive('df-3f1cdf1b-f1f5-42c6-8dce-2f255706cde4')\"\n",
              "              title=\"Convert this dataframe to an interactive table.\"\n",
              "              style=\"display:none;\">\n",
              "        \n",
              "  <svg xmlns=\"http://www.w3.org/2000/svg\" height=\"24px\"viewBox=\"0 0 24 24\"\n",
              "       width=\"24px\">\n",
              "    <path d=\"M0 0h24v24H0V0z\" fill=\"none\"/>\n",
              "    <path d=\"M18.56 5.44l.94 2.06.94-2.06 2.06-.94-2.06-.94-.94-2.06-.94 2.06-2.06.94zm-11 1L8.5 8.5l.94-2.06 2.06-.94-2.06-.94L8.5 2.5l-.94 2.06-2.06.94zm10 10l.94 2.06.94-2.06 2.06-.94-2.06-.94-.94-2.06-.94 2.06-2.06.94z\"/><path d=\"M17.41 7.96l-1.37-1.37c-.4-.4-.92-.59-1.43-.59-.52 0-1.04.2-1.43.59L10.3 9.45l-7.72 7.72c-.78.78-.78 2.05 0 2.83L4 21.41c.39.39.9.59 1.41.59.51 0 1.02-.2 1.41-.59l7.78-7.78 2.81-2.81c.8-.78.8-2.07 0-2.86zM5.41 20L4 18.59l7.72-7.72 1.47 1.35L5.41 20z\"/>\n",
              "  </svg>\n",
              "      </button>\n",
              "      \n",
              "  <style>\n",
              "    .colab-df-container {\n",
              "      display:flex;\n",
              "      flex-wrap:wrap;\n",
              "      gap: 12px;\n",
              "    }\n",
              "\n",
              "    .colab-df-convert {\n",
              "      background-color: #E8F0FE;\n",
              "      border: none;\n",
              "      border-radius: 50%;\n",
              "      cursor: pointer;\n",
              "      display: none;\n",
              "      fill: #1967D2;\n",
              "      height: 32px;\n",
              "      padding: 0 0 0 0;\n",
              "      width: 32px;\n",
              "    }\n",
              "\n",
              "    .colab-df-convert:hover {\n",
              "      background-color: #E2EBFA;\n",
              "      box-shadow: 0px 1px 2px rgba(60, 64, 67, 0.3), 0px 1px 3px 1px rgba(60, 64, 67, 0.15);\n",
              "      fill: #174EA6;\n",
              "    }\n",
              "\n",
              "    [theme=dark] .colab-df-convert {\n",
              "      background-color: #3B4455;\n",
              "      fill: #D2E3FC;\n",
              "    }\n",
              "\n",
              "    [theme=dark] .colab-df-convert:hover {\n",
              "      background-color: #434B5C;\n",
              "      box-shadow: 0px 1px 3px 1px rgba(0, 0, 0, 0.15);\n",
              "      filter: drop-shadow(0px 1px 2px rgba(0, 0, 0, 0.3));\n",
              "      fill: #FFFFFF;\n",
              "    }\n",
              "  </style>\n",
              "\n",
              "      <script>\n",
              "        const buttonEl =\n",
              "          document.querySelector('#df-3f1cdf1b-f1f5-42c6-8dce-2f255706cde4 button.colab-df-convert');\n",
              "        buttonEl.style.display =\n",
              "          google.colab.kernel.accessAllowed ? 'block' : 'none';\n",
              "\n",
              "        async function convertToInteractive(key) {\n",
              "          const element = document.querySelector('#df-3f1cdf1b-f1f5-42c6-8dce-2f255706cde4');\n",
              "          const dataTable =\n",
              "            await google.colab.kernel.invokeFunction('convertToInteractive',\n",
              "                                                     [key], {});\n",
              "          if (!dataTable) return;\n",
              "\n",
              "          const docLinkHtml = 'Like what you see? Visit the ' +\n",
              "            '<a target=\"_blank\" href=https://colab.research.google.com/notebooks/data_table.ipynb>data table notebook</a>'\n",
              "            + ' to learn more about interactive tables.';\n",
              "          element.innerHTML = '';\n",
              "          dataTable['output_type'] = 'display_data';\n",
              "          await google.colab.output.renderOutput(dataTable, element);\n",
              "          const docLink = document.createElement('div');\n",
              "          docLink.innerHTML = docLinkHtml;\n",
              "          element.appendChild(docLink);\n",
              "        }\n",
              "      </script>\n",
              "    </div>\n",
              "  </div>\n",
              "  "
            ]
          },
          "metadata": {},
          "execution_count": 28
        }
      ]
    },
    {
      "cell_type": "markdown",
      "source": [
        "Segregate Dataset into Input X and Output Y"
      ],
      "metadata": {
        "id": "5iJSi3U9UXGH"
      }
    },
    {
      "cell_type": "code",
      "source": [
        "X=dataset.iloc[:,:-1].values\n",
        "X"
      ],
      "metadata": {
        "colab": {
          "base_uri": "https://localhost:8080/"
        },
        "id": "nWzgPMZcUflf",
        "outputId": "84d0aab3-c48e-473f-ee14-19ab0e12b5b2"
      },
      "execution_count": null,
      "outputs": [
        {
          "output_type": "execute_result",
          "data": {
            "text/plain": [
              "array([[34.62365962, 78.02469282],\n",
              "       [30.28671077, 43.89499752],\n",
              "       [35.84740877, 72.90219803],\n",
              "       [60.18259939, 86.3085521 ],\n",
              "       [79.03273605, 75.34437644],\n",
              "       [45.08327748, 56.31637178],\n",
              "       [61.51385627, 96.51142588],\n",
              "       [75.02474557, 46.55401354],\n",
              "       [76.0987867 , 87.42056972],\n",
              "       [84.43281996, 43.53339331],\n",
              "       [95.86155507, 38.22527806],\n",
              "       [75.01365839, 30.60326323],\n",
              "       [82.30705337, 76.4819633 ],\n",
              "       [69.36458876, 97.71869196],\n",
              "       [39.53833914, 76.03681085],\n",
              "       [53.97105215, 89.20735014],\n",
              "       [69.07014406, 52.74046973],\n",
              "       [67.94685548, 46.67857411],\n",
              "       [70.66150955, 92.92713789],\n",
              "       [76.97878373, 47.57596365],\n",
              "       [67.37202755, 42.83843832],\n",
              "       [89.67677575, 65.79936593],\n",
              "       [50.53478829, 48.85581153],\n",
              "       [34.21206098, 44.2095286 ],\n",
              "       [77.92409145, 68.97235999],\n",
              "       [61.51385627, 69.95445795],\n",
              "       [80.19018075, 44.82162893],\n",
              "       [93.1143888 , 38.80067034],\n",
              "       [61.83020602, 50.25610789],\n",
              "       [38.7858038 , 64.99568096],\n",
              "       [61.37928945, 72.80788731],\n",
              "       [85.40451939, 57.05198398],\n",
              "       [52.10797973, 63.12762377],\n",
              "       [52.04540477, 69.43286012],\n",
              "       [40.23689374, 71.16774802],\n",
              "       [54.63510555, 52.21388588],\n",
              "       [61.51385627, 98.86943574],\n",
              "       [64.17698887, 80.90806059],\n",
              "       [74.78925296, 41.57341523],\n",
              "       [34.18364003, 75.23772034],\n",
              "       [83.90239366, 56.30804622],\n",
              "       [51.54772027, 46.85629026],\n",
              "       [94.44336777, 65.56892161],\n",
              "       [82.36875376, 40.61825516],\n",
              "       [51.04775177, 45.82270146],\n",
              "       [62.22267576, 52.06099195],\n",
              "       [77.19303493, 70.4582    ],\n",
              "       [97.77159928, 86.72782233],\n",
              "       [62.0730638 , 96.76882412],\n",
              "       [91.5649745 , 88.69629255],\n",
              "       [79.94481794, 74.16311935],\n",
              "       [99.27252693, 60.999031  ],\n",
              "       [90.54671411, 43.39060181],\n",
              "       [34.52451385, 60.39634246],\n",
              "       [50.28649612, 49.80453881],\n",
              "       [49.58667722, 59.80895099],\n",
              "       [97.64563396, 68.86157272],\n",
              "       [32.57720017, 95.59854761],\n",
              "       [74.24869137, 69.82457123],\n",
              "       [71.79646206, 78.45356225],\n",
              "       [75.39561147, 85.75993667],\n",
              "       [35.28611282, 47.02051395],\n",
              "       [56.2538175 , 39.26147251],\n",
              "       [30.05882245, 49.59297387],\n",
              "       [44.66826172, 66.45008615],\n",
              "       [66.56089447, 41.09209808],\n",
              "       [40.45755098, 97.53518549],\n",
              "       [49.07256322, 51.88321182],\n",
              "       [80.27957401, 92.11606081],\n",
              "       [66.74671857, 60.99139403],\n",
              "       [32.72283304, 43.30717306],\n",
              "       [64.03932042, 78.03168802],\n",
              "       [72.34649423, 96.22759297],\n",
              "       [60.45788574, 73.0949981 ],\n",
              "       [58.84095622, 75.85844831],\n",
              "       [99.8278578 , 72.36925193],\n",
              "       [47.26426911, 88.475865  ],\n",
              "       [50.4581598 , 75.80985953],\n",
              "       [60.45555629, 42.50840944],\n",
              "       [82.22666158, 42.71987854],\n",
              "       [88.91389642, 69.8037889 ],\n",
              "       [94.83450672, 45.6943068 ],\n",
              "       [67.31925747, 66.58935318],\n",
              "       [57.23870632, 59.51428198],\n",
              "       [80.366756  , 90.9601479 ],\n",
              "       [68.46852179, 85.5943071 ],\n",
              "       [42.07545454, 78.844786  ],\n",
              "       [75.47770201, 90.424539  ],\n",
              "       [78.63542435, 96.64742717],\n",
              "       [52.34800399, 60.76950526],\n",
              "       [94.09433113, 77.15910509],\n",
              "       [61.51385627, 87.50879176],\n",
              "       [55.48216114, 35.57070347],\n",
              "       [74.49269242, 84.84513685],\n",
              "       [89.84580671, 45.35828361],\n",
              "       [83.48916274, 48.3802858 ],\n",
              "       [42.26170081, 87.10385094],\n",
              "       [99.31500881, 68.77540947],\n",
              "       [55.34001756, 64.93193801],\n",
              "       [74.775893  , 89.5298129 ],\n",
              "       [70.4582    , 84.84513685],\n",
              "       [86.72782233, 45.35828361],\n",
              "       [96.76882412, 48.3802858 ],\n",
              "       [88.69629255, 87.10385094],\n",
              "       [74.16311935, 68.77540947],\n",
              "       [60.999031  , 64.93193801],\n",
              "       [43.39060181, 89.5298129 ],\n",
              "       [35.28611282, 34.52451385],\n",
              "       [40.154     , 33.1545    ],\n",
              "       [30.05882245, 22.152     ],\n",
              "       [44.66826172, 34.52451385],\n",
              "       [22.15224   , 14.125     ],\n",
              "       [94.83450672, 48.3802858 ],\n",
              "       [67.31925747, 87.10385094],\n",
              "       [57.23870632, 68.77540947],\n",
              "       [80.366756  , 64.93193801],\n",
              "       [68.46852179, 89.5298129 ],\n",
              "       [10.245     , 25.152     ],\n",
              "       [30.145     , 40.568     ],\n",
              "       [12.15545   , 16.155     ],\n",
              "       [16.1526    , 33.452     ],\n",
              "       [20.1244    , 10.125     ],\n",
              "       [26.1548    , 15.245     ],\n",
              "       [97.1254    , 75.1254    ],\n",
              "       [65.155     , 88.12546   ],\n",
              "       [77.1254    , 92.125     ],\n",
              "       [68.215     , 99.12456   ],\n",
              "       [74.125     , 68.154     ],\n",
              "       [93.1254    , 77.895     ],\n",
              "       [80.124     , 25.152     ],\n",
              "       [30.145     , 76.158     ],\n",
              "       [12.15545   , 88.145     ],\n",
              "       [68.154     , 33.452     ],\n",
              "       [40.1545    , 10.125     ],\n",
              "       [26.1548    , 68.154     ],\n",
              "       [80.124     , 12.1       ],\n",
              "       [ 5.125     , 76.158     ],\n",
              "       [13.154     , 88.145     ],\n",
              "       [61.51385627,  9.154     ],\n",
              "       [40.1545    , 16.1452    ],\n",
              "       [ 2.154     , 68.154     ]])"
            ]
          },
          "metadata": {},
          "execution_count": 29
        }
      ]
    },
    {
      "cell_type": "code",
      "source": [
        "Y=dataset.iloc[:,-1].values\n",
        "Y"
      ],
      "metadata": {
        "colab": {
          "base_uri": "https://localhost:8080/"
        },
        "id": "y1ZDogKHUqUu",
        "outputId": "ffc97fdb-d595-4f26-9681-ff0198b4b946"
      },
      "execution_count": null,
      "outputs": [
        {
          "output_type": "execute_result",
          "data": {
            "text/plain": [
              "array([4.   , 3.99 , 2.5  , 3.75 , 3.55 , 2.5  , 3.99 , 3.45 , 3.89 ,\n",
              "       3.45 , 2.5  , 2.5  , 3.89 , 3.89 , 2.5  , 3.99 , 3.89 , 2.5  ,\n",
              "       3.89 , 3.45 , 2.75 , 3.99 , 2.75 , 2.75 , 3.89 , 3.99 , 3.89 ,\n",
              "       2.5  , 2.75 , 3.89 , 3.45 , 3.45 , 2.75 , 3.99 , 2.75 , 2.75 ,\n",
              "       2.75 , 3.89 , 2.94 , 2.34 , 3.89 , 2.24 , 3.99 , 2.5  , 2.5  ,\n",
              "       2.5  , 3.99 , 3.99 , 3.89 , 3.29 , 3.45 , 3.59 , 4.   , 2.75 ,\n",
              "       2.75 , 2.75 , 3.89 , 2.75 , 3.89 , 3.45 , 3.45 , 2.56 , 3.75 ,\n",
              "       2.56 , 2.56 , 3.09 , 3.89 , 2.56 , 3.59 , 3.59 , 2.56 , 3.59 ,\n",
              "       3.75 , 3.59 , 3.59 , 3.45 , 4.   , 3.59 , 2.56 , 2.56 , 3.89 ,\n",
              "       3.45 , 3.59 , 3.45 , 3.59 , 3.59 , 2.56 , 3.59 , 4.   , 2.56 ,\n",
              "       3.59 , 3.59 , 2.56 , 3.751, 3.59 , 3.45 , 3.89 , 3.89 , 3.59 ,\n",
              "       3.45 , 3.59 , 3.75 , 3.59 , 3.45 , 3.59 , 3.45 , 3.89 , 2.56 ,\n",
              "       2.56 , 3.75 , 2.56 , 2.56 , 3.45 , 3.89 , 4.   , 4.   , 4.   ,\n",
              "       2.94 , 2.94 , 2.94 , 2.94 , 2.94 , 2.94 , 3.59 , 3.45 , 3.59 ,\n",
              "       3.89 , 3.45 , 3.59 , 2.94 , 2.74 , 2.14 , 3.75 , 2.44 , 2.56 ,\n",
              "       2.56 , 2.56 , 2.94 , 3.75 , 2.94 , 2.94 ])"
            ]
          },
          "metadata": {},
          "execution_count": 32
        }
      ]
    },
    {
      "cell_type": "markdown",
      "source": [
        "Training Dataset using Linear Regression"
      ],
      "metadata": {
        "id": "ugA29kM_U0dW"
      }
    },
    {
      "cell_type": "code",
      "source": [
        "model=LinearRegression()\n",
        "model.fit(X,Y)"
      ],
      "metadata": {
        "colab": {
          "base_uri": "https://localhost:8080/"
        },
        "id": "4Tmp0sfUU60e",
        "outputId": "052eff0d-d323-4f6d-f15f-c29ed3636e5a"
      },
      "execution_count": null,
      "outputs": [
        {
          "output_type": "execute_result",
          "data": {
            "text/plain": [
              "LinearRegression()"
            ]
          },
          "metadata": {},
          "execution_count": 33
        }
      ]
    },
    {
      "cell_type": "markdown",
      "source": [
        "Predicted the marks with  custom values"
      ],
      "metadata": {
        "id": "c4P-Oty2VNd4"
      }
    },
    {
      "cell_type": "code",
      "source": [
        "a=[[34.623659,78.02469282]]\n",
        "PredictModelResult=model.predict(a)\n",
        "print(PredictModelResult)"
      ],
      "metadata": {
        "colab": {
          "base_uri": "https://localhost:8080/"
        },
        "id": "jDgvAnOfVkk_",
        "outputId": "b4a58c8b-da21-476d-df41-112b81f03010"
      },
      "execution_count": null,
      "outputs": [
        {
          "output_type": "stream",
          "name": "stdout",
          "text": [
            "[3.18238722]\n"
          ]
        }
      ]
    }
  ]
}