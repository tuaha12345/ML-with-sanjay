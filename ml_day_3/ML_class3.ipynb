{
  "cells": [
    {
      "cell_type": "markdown",
      "metadata": {
        "id": "GP7XxGVGnBpb"
      },
      "source": [
        "Arithmatic Operation"
      ]
    },
    {
      "cell_type": "code",
      "execution_count": null,
      "metadata": {
        "colab": {
          "base_uri": "https://localhost:8080/"
        },
        "id": "7BHX5OYEmTj6",
        "outputId": "8cc18ed3-6100-4fbf-fcb8-a5187b0ae07c"
      },
      "outputs": [
        {
          "output_type": "stream",
          "name": "stdout",
          "text": [
            "5 6 11 30 0.8333333333333334 -1\n",
            "sum: 11\n"
          ]
        }
      ],
      "source": [
        "a=5\n",
        "b=6\n",
        "c=a+b\n",
        "d=a*b\n",
        "e=a/b\n",
        "f=a-b\n",
        "print(a,b,c,d,e,f)\n",
        "print(\"sum:\", c)"
      ]
    },
    {
      "cell_type": "code",
      "execution_count": null,
      "metadata": {
        "id": "AgfkGTYhu1wj"
      },
      "outputs": [],
      "source": [
        "a=4\n",
        "b=5\n",
        "if a>b:\n",
        "  print(\"a is greater than b\")\n",
        "elif b>c:\n",
        "  print(\"b is greater than c\")\n",
        "else:\n",
        "  print(\"b is not less than a and c\")"
      ]
    },
    {
      "cell_type": "code",
      "execution_count": null,
      "metadata": {
        "id": "-pCXNiqfwbbz"
      },
      "outputs": [],
      "source": [
        "for i in range(1,10):\n",
        "  print(i)"
      ]
    },
    {
      "cell_type": "code",
      "execution_count": null,
      "metadata": {
        "id": "Od6GYVNnwlXr"
      },
      "outputs": [],
      "source": [
        "for i in range(11,1,-2):\n",
        "  print(i)"
      ]
    },
    {
      "cell_type": "code",
      "execution_count": null,
      "metadata": {
        "id": "NtkNbsTlw6bD"
      },
      "outputs": [],
      "source": [
        "for i in range(1,20,2):\n",
        "  print(i)"
      ]
    },
    {
      "cell_type": "code",
      "execution_count": null,
      "metadata": {
        "id": "bHlGdgETx7ek"
      },
      "outputs": [],
      "source": [
        "i=0\n",
        "while i<=11:\n",
        "  print(i)\n",
        "  i+=1 #this is the increment \n",
        "\n",
        "\n",
        "\n",
        "  "
      ]
    },
    {
      "cell_type": "markdown",
      "metadata": {
        "id": "i8o0QYCxc9Qz"
      },
      "source": [
        "Starting to ML:\n"
      ]
    },
    {
      "cell_type": "code",
      "execution_count": null,
      "metadata": {
        "id": "BPlS2dz9dCTN"
      },
      "outputs": [],
      "source": [
        "import pandas as pd #useful for loading the dataset \n",
        "import numpy as np #for performing array"
      ]
    },
    {
      "cell_type": "markdown",
      "metadata": {
        "id": "QSb-Jplgecds"
      },
      "source": [
        "Choose Dataset file from Local Directory\n"
      ]
    },
    {
      "cell_type": "code",
      "execution_count": null,
      "metadata": {
        "colab": {
          "base_uri": "https://localhost:8080/",
          "height": 73
        },
        "id": "fAa1F1WPegBV",
        "outputId": "0eb64f95-01f3-425a-ae4a-355a119cac2e"
      },
      "outputs": [
        {
          "output_type": "display_data",
          "data": {
            "text/plain": [
              "<IPython.core.display.HTML object>"
            ],
            "text/html": [
              "\n",
              "     <input type=\"file\" id=\"files-2c8bcd85-ef8e-4acb-9183-cc873a921486\" name=\"files[]\" multiple disabled\n",
              "        style=\"border:none\" />\n",
              "     <output id=\"result-2c8bcd85-ef8e-4acb-9183-cc873a921486\">\n",
              "      Upload widget is only available when the cell has been executed in the\n",
              "      current browser session. Please rerun this cell to enable.\n",
              "      </output>\n",
              "      <script>// Copyright 2017 Google LLC\n",
              "//\n",
              "// Licensed under the Apache License, Version 2.0 (the \"License\");\n",
              "// you may not use this file except in compliance with the License.\n",
              "// You may obtain a copy of the License at\n",
              "//\n",
              "//      http://www.apache.org/licenses/LICENSE-2.0\n",
              "//\n",
              "// Unless required by applicable law or agreed to in writing, software\n",
              "// distributed under the License is distributed on an \"AS IS\" BASIS,\n",
              "// WITHOUT WARRANTIES OR CONDITIONS OF ANY KIND, either express or implied.\n",
              "// See the License for the specific language governing permissions and\n",
              "// limitations under the License.\n",
              "\n",
              "/**\n",
              " * @fileoverview Helpers for google.colab Python module.\n",
              " */\n",
              "(function(scope) {\n",
              "function span(text, styleAttributes = {}) {\n",
              "  const element = document.createElement('span');\n",
              "  element.textContent = text;\n",
              "  for (const key of Object.keys(styleAttributes)) {\n",
              "    element.style[key] = styleAttributes[key];\n",
              "  }\n",
              "  return element;\n",
              "}\n",
              "\n",
              "// Max number of bytes which will be uploaded at a time.\n",
              "const MAX_PAYLOAD_SIZE = 100 * 1024;\n",
              "\n",
              "function _uploadFiles(inputId, outputId) {\n",
              "  const steps = uploadFilesStep(inputId, outputId);\n",
              "  const outputElement = document.getElementById(outputId);\n",
              "  // Cache steps on the outputElement to make it available for the next call\n",
              "  // to uploadFilesContinue from Python.\n",
              "  outputElement.steps = steps;\n",
              "\n",
              "  return _uploadFilesContinue(outputId);\n",
              "}\n",
              "\n",
              "// This is roughly an async generator (not supported in the browser yet),\n",
              "// where there are multiple asynchronous steps and the Python side is going\n",
              "// to poll for completion of each step.\n",
              "// This uses a Promise to block the python side on completion of each step,\n",
              "// then passes the result of the previous step as the input to the next step.\n",
              "function _uploadFilesContinue(outputId) {\n",
              "  const outputElement = document.getElementById(outputId);\n",
              "  const steps = outputElement.steps;\n",
              "\n",
              "  const next = steps.next(outputElement.lastPromiseValue);\n",
              "  return Promise.resolve(next.value.promise).then((value) => {\n",
              "    // Cache the last promise value to make it available to the next\n",
              "    // step of the generator.\n",
              "    outputElement.lastPromiseValue = value;\n",
              "    return next.value.response;\n",
              "  });\n",
              "}\n",
              "\n",
              "/**\n",
              " * Generator function which is called between each async step of the upload\n",
              " * process.\n",
              " * @param {string} inputId Element ID of the input file picker element.\n",
              " * @param {string} outputId Element ID of the output display.\n",
              " * @return {!Iterable<!Object>} Iterable of next steps.\n",
              " */\n",
              "function* uploadFilesStep(inputId, outputId) {\n",
              "  const inputElement = document.getElementById(inputId);\n",
              "  inputElement.disabled = false;\n",
              "\n",
              "  const outputElement = document.getElementById(outputId);\n",
              "  outputElement.innerHTML = '';\n",
              "\n",
              "  const pickedPromise = new Promise((resolve) => {\n",
              "    inputElement.addEventListener('change', (e) => {\n",
              "      resolve(e.target.files);\n",
              "    });\n",
              "  });\n",
              "\n",
              "  const cancel = document.createElement('button');\n",
              "  inputElement.parentElement.appendChild(cancel);\n",
              "  cancel.textContent = 'Cancel upload';\n",
              "  const cancelPromise = new Promise((resolve) => {\n",
              "    cancel.onclick = () => {\n",
              "      resolve(null);\n",
              "    };\n",
              "  });\n",
              "\n",
              "  // Wait for the user to pick the files.\n",
              "  const files = yield {\n",
              "    promise: Promise.race([pickedPromise, cancelPromise]),\n",
              "    response: {\n",
              "      action: 'starting',\n",
              "    }\n",
              "  };\n",
              "\n",
              "  cancel.remove();\n",
              "\n",
              "  // Disable the input element since further picks are not allowed.\n",
              "  inputElement.disabled = true;\n",
              "\n",
              "  if (!files) {\n",
              "    return {\n",
              "      response: {\n",
              "        action: 'complete',\n",
              "      }\n",
              "    };\n",
              "  }\n",
              "\n",
              "  for (const file of files) {\n",
              "    const li = document.createElement('li');\n",
              "    li.append(span(file.name, {fontWeight: 'bold'}));\n",
              "    li.append(span(\n",
              "        `(${file.type || 'n/a'}) - ${file.size} bytes, ` +\n",
              "        `last modified: ${\n",
              "            file.lastModifiedDate ? file.lastModifiedDate.toLocaleDateString() :\n",
              "                                    'n/a'} - `));\n",
              "    const percent = span('0% done');\n",
              "    li.appendChild(percent);\n",
              "\n",
              "    outputElement.appendChild(li);\n",
              "\n",
              "    const fileDataPromise = new Promise((resolve) => {\n",
              "      const reader = new FileReader();\n",
              "      reader.onload = (e) => {\n",
              "        resolve(e.target.result);\n",
              "      };\n",
              "      reader.readAsArrayBuffer(file);\n",
              "    });\n",
              "    // Wait for the data to be ready.\n",
              "    let fileData = yield {\n",
              "      promise: fileDataPromise,\n",
              "      response: {\n",
              "        action: 'continue',\n",
              "      }\n",
              "    };\n",
              "\n",
              "    // Use a chunked sending to avoid message size limits. See b/62115660.\n",
              "    let position = 0;\n",
              "    do {\n",
              "      const length = Math.min(fileData.byteLength - position, MAX_PAYLOAD_SIZE);\n",
              "      const chunk = new Uint8Array(fileData, position, length);\n",
              "      position += length;\n",
              "\n",
              "      const base64 = btoa(String.fromCharCode.apply(null, chunk));\n",
              "      yield {\n",
              "        response: {\n",
              "          action: 'append',\n",
              "          file: file.name,\n",
              "          data: base64,\n",
              "        },\n",
              "      };\n",
              "\n",
              "      let percentDone = fileData.byteLength === 0 ?\n",
              "          100 :\n",
              "          Math.round((position / fileData.byteLength) * 100);\n",
              "      percent.textContent = `${percentDone}% done`;\n",
              "\n",
              "    } while (position < fileData.byteLength);\n",
              "  }\n",
              "\n",
              "  // All done.\n",
              "  yield {\n",
              "    response: {\n",
              "      action: 'complete',\n",
              "    }\n",
              "  };\n",
              "}\n",
              "\n",
              "scope.google = scope.google || {};\n",
              "scope.google.colab = scope.google.colab || {};\n",
              "scope.google.colab._files = {\n",
              "  _uploadFiles,\n",
              "  _uploadFilesContinue,\n",
              "};\n",
              "})(self);\n",
              "</script> "
            ]
          },
          "metadata": {}
        },
        {
          "output_type": "stream",
          "name": "stdout",
          "text": [
            "Saving ml_sanjay.csv to ml_sanjay.csv\n"
          ]
        }
      ],
      "source": [
        "from google.colab import files\n",
        "uploaded=files.upload()"
      ]
    },
    {
      "cell_type": "markdown",
      "metadata": {
        "id": "mTfJG-1ghEVM"
      },
      "source": [
        "Load dastaset\n"
      ]
    },
    {
      "cell_type": "code",
      "execution_count": null,
      "metadata": {
        "colab": {
          "base_uri": "https://localhost:8080/"
        },
        "id": "hkpsxzLkOz5U",
        "outputId": "398c7351-03a5-4a91-fbc1-c7cf428abe5a"
      },
      "outputs": [
        {
          "output_type": "stream",
          "name": "stdout",
          "text": [
            "    Age  Salary  Status\n",
            "0    18   82000       0\n",
            "1    29   80000       0\n",
            "2    47   25000       1\n",
            "3    45   26000       1\n",
            "4    46   29000       1\n",
            "5    48   22000       1\n",
            "6    45   49000       1\n",
            "7    47   41000       1\n",
            "8    48   22000       1\n",
            "9    45   23000       1\n",
            "10   46   20000       1\n",
            "11   47   28000       1\n",
            "12   49   30000       1\n",
            "13   47   43000       1\n",
            "14   29   29000       0\n",
            "15   24   10000       0\n",
            "16   23   55000       0\n",
            "17   36   33000       1\n",
            "18   49   36000       0\n",
            "19   19   19000       0\n",
            "20   35   20000       0\n",
            "21   26   43000       0\n",
            "22   27   57000       0\n",
            "23   19   76000       1\n",
            "24   27   58000       0\n",
            "25   27   84000       0\n",
            "26   32  150000       0\n",
            "27   25   84000       1\n",
            "28   35  150000       0\n",
            "29   26   22000       0\n",
            "30   26   65000       0\n",
            "31   20   80000       0\n",
            "32   32   52000       0\n",
            "33   23   86000       1\n",
            "34   33   18000       0\n"
          ]
        }
      ],
      "source": [
        "dataset=pd.read_csv('ml_sanjay.csv')\n",
        "print(dataset)"
      ]
    },
    {
      "cell_type": "markdown",
      "metadata": {
        "id": "C1dbNBcorAgf"
      },
      "source": [
        "Summarize dataset\n"
      ]
    },
    {
      "cell_type": "code",
      "execution_count": null,
      "metadata": {
        "colab": {
          "base_uri": "https://localhost:8080/"
        },
        "id": "DOW97fAZq_wf",
        "outputId": "5e4ee773-2a5d-4ff1-c1d9-545b370be0bc"
      },
      "outputs": [
        {
          "output_type": "stream",
          "name": "stdout",
          "text": [
            "(35, 3)\n",
            "   Age  Salary  Status\n",
            "0   18   82000       0\n",
            "1   29   80000       0\n",
            "2   47   25000       1\n",
            "    Age  Salary  Status\n",
            "32   32   52000       0\n",
            "33   23   86000       1\n",
            "34   33   18000       0\n"
          ]
        }
      ],
      "source": [
        "print(dataset.shape) #no. of rows and col\n",
        "print(dataset.head(3)) #top values of data\n",
        "print(dataset.tail(3))"
      ]
    },
    {
      "cell_type": "markdown",
      "metadata": {
        "id": "T5hm-rOfaqMG"
      },
      "source": [
        "Segregate dataset into x(input/independentvarialbe) & y(output/dependentvariable)"
      ]
    },
    {
      "cell_type": "code",
      "execution_count": null,
      "metadata": {
        "colab": {
          "base_uri": "https://localhost:8080/"
        },
        "id": "5Q8koePHahj3",
        "outputId": "fc5cb921-e171-4f2b-f0c9-19063e0716fb"
      },
      "outputs": [
        {
          "output_type": "execute_result",
          "data": {
            "text/plain": [
              "array([[    18,  82000],\n",
              "       [    29,  80000],\n",
              "       [    47,  25000],\n",
              "       [    45,  26000],\n",
              "       [    46,  29000],\n",
              "       [    48,  22000],\n",
              "       [    45,  49000],\n",
              "       [    47,  41000],\n",
              "       [    48,  22000],\n",
              "       [    45,  23000],\n",
              "       [    46,  20000],\n",
              "       [    47,  28000],\n",
              "       [    49,  30000],\n",
              "       [    47,  43000],\n",
              "       [    29,  29000],\n",
              "       [    24,  10000],\n",
              "       [    23,  55000],\n",
              "       [    36,  33000],\n",
              "       [    49,  36000],\n",
              "       [    19,  19000],\n",
              "       [    35,  20000],\n",
              "       [    26,  43000],\n",
              "       [    27,  57000],\n",
              "       [    19,  76000],\n",
              "       [    27,  58000],\n",
              "       [    27,  84000],\n",
              "       [    32, 150000],\n",
              "       [    25,  84000],\n",
              "       [    35, 150000],\n",
              "       [    26,  22000],\n",
              "       [    26,  65000],\n",
              "       [    20,  80000],\n",
              "       [    32,  52000],\n",
              "       [    23,  86000],\n",
              "       [    33,  18000]])"
            ]
          },
          "metadata": {},
          "execution_count": 11
        }
      ],
      "source": [
        "X=dataset.iloc[:,:2].values\n",
        "X"
      ]
    },
    {
      "cell_type": "code",
      "execution_count": null,
      "metadata": {
        "colab": {
          "base_uri": "https://localhost:8080/"
        },
        "id": "3CgrG4NnrglO",
        "outputId": "d22770fe-656c-4301-ea6d-392e719331d5"
      },
      "outputs": [
        {
          "output_type": "execute_result",
          "data": {
            "text/plain": [
              "array([0, 0, 1, 1, 1, 1, 1, 1, 1, 1, 1, 1, 1, 1, 0, 0, 0, 1, 0, 0, 0, 0,\n",
              "       0, 1, 0, 0, 0, 1, 0, 0, 0, 0, 0, 1, 0])"
            ]
          },
          "metadata": {},
          "execution_count": 12
        }
      ],
      "source": [
        "Y=dataset.iloc[:,-1].values\n",
        "Y"
      ]
    },
    {
      "cell_type": "markdown",
      "metadata": {
        "id": "lTwu45tHsGee"
      },
      "source": [
        "Splitting Dataset into Train and Test"
      ]
    },
    {
      "cell_type": "code",
      "execution_count": null,
      "metadata": {
        "id": "G-yl9T6CsQKV"
      },
      "outputs": [],
      "source": [
        "from sklearn.model_selection import train_test_split\n",
        "X_train,X_test,y_train,y_test=train_test_split(X,Y,test_size=.25,random_state=0)"
      ]
    },
    {
      "cell_type": "markdown",
      "metadata": {
        "id": "GUqO90Dh0Tt-"
      },
      "source": [
        "Feature Scaling \n",
        "\n",
        " we scale our data to make all the features contribute equally to the result"
      ]
    },
    {
      "cell_type": "markdown",
      "metadata": {
        "id": "ARzSPQJx0aY9"
      },
      "source": [
        " Fit_Transform-fit method is calculating the mean and variance of each of the features present in our data\n",
        " "
      ]
    },
    {
      "cell_type": "markdown",
      "metadata": {
        "id": "0h5Rkvi80eLF"
      },
      "source": [
        "Transform-Transform method is transforming all the features using the respective mean and variance,"
      ]
    },
    {
      "cell_type": "markdown",
      "metadata": {
        "id": "-u3GQ8He0fkv"
      },
      "source": [
        " We want our test data to be a completely new and surprise set for our model\n",
        " "
      ]
    },
    {
      "cell_type": "code",
      "execution_count": null,
      "metadata": {
        "colab": {
          "base_uri": "https://localhost:8080/"
        },
        "id": "Fy8p5rK00kp-",
        "outputId": "a5867347-c783-4c11-9604-431bd48f30a7"
      },
      "outputs": [
        {
          "output_type": "stream",
          "name": "stdout",
          "text": [
            "[[-0.84829489  1.04165691]\n",
            " [-0.66449766  1.04165691]\n",
            " [-0.11310599 -1.12761889]\n",
            " [-0.2050046  -0.01011317]\n",
            " [-0.2050046   3.21093272]\n",
            " [-0.75639628  0.41716842]\n",
            " [ 1.26537321 -0.99614763]\n",
            " [ 1.1734746  -0.30592351]\n",
            " [ 1.26537321 -0.99614763]\n",
            " [ 0.16258985 -0.63460166]\n",
            " [-0.48070044 -0.76607292]\n",
            " [-1.30778795  0.91018565]\n",
            " [-0.66449766  0.18709372]\n",
            " [-0.48070044  0.91018565]\n",
            " [ 1.35727182 -0.73320511]\n",
            " [ 0.98967737 -0.10871662]\n",
            " [-1.39968657  0.77871439]\n",
            " [ 1.08157598 -0.76607292]\n",
            " [ 1.35727182 -0.53599822]\n",
            " [-0.75639628 -0.30592351]\n",
            " [-1.39968657 -1.09475108]\n",
            " [ 0.98967737 -0.96327982]\n",
            " [ 1.1734746  -0.37165914]\n",
            " [-1.03209211  1.10739254]\n",
            " [ 0.98967737 -0.86467637]\n",
            " [-1.49158518  0.97592128]]\n",
            "fdfd\n",
            "[[-0.75639628 -0.99614763]\n",
            " [ 0.07069124 -1.06188326]\n",
            " [-1.03209211  0.08849027]\n",
            " [ 0.07069124  3.21093272]\n",
            " [-0.66449766  0.1542259 ]\n",
            " [-0.9401935  -1.39056141]\n",
            " [ 1.08157598 -1.06188326]\n",
            " [ 1.1734746  -0.89754418]\n",
            " [ 1.1734746  -0.79894074]]\n"
          ]
        }
      ],
      "source": [
        "from sklearn.preprocessing import StandardScaler\n",
        "sc=StandardScaler()\n",
        "X_train=sc.fit_transform(X_train)\n",
        "X_test=sc.transform(X_test)\n",
        "print(X_train)\n",
        "print('fdfd')\n",
        "print(X_test)"
      ]
    },
    {
      "cell_type": "markdown",
      "source": [
        "Training\n"
      ],
      "metadata": {
        "id": "_v6oGGxKCDwh"
      }
    },
    {
      "cell_type": "code",
      "source": [
        "from sklearn.linear_model import LogisticRegression\n",
        "model=LogisticRegression() #loading the alg\n",
        "model.fit(X_train,y_train)#train \n"
      ],
      "metadata": {
        "colab": {
          "base_uri": "https://localhost:8080/"
        },
        "id": "tl1yq5l-CHwp",
        "outputId": "a64ef1b0-86a9-4614-a62e-edb02df0e614"
      },
      "execution_count": null,
      "outputs": [
        {
          "output_type": "execute_result",
          "data": {
            "text/plain": [
              "LogisticRegression()"
            ]
          },
          "metadata": {},
          "execution_count": 15
        }
      ]
    },
    {
      "cell_type": "markdown",
      "source": [
        "Predcting\n"
      ],
      "metadata": {
        "id": "icqATO7iDHs5"
      }
    },
    {
      "cell_type": "code",
      "source": [
        "y_pred=model.predict(X_test)\n",
        "from sklearn.metrics import accuracy_score\n",
        "print(\"Accuracy of the model:{0}%\".format(accuracy_score(y_test,y_pred)*100))"
      ],
      "metadata": {
        "colab": {
          "base_uri": "https://localhost:8080/"
        },
        "id": "fiXZTAr4DLKK",
        "outputId": "e5f70f16-a5f6-49a3-8822-40561ee1b04a"
      },
      "execution_count": null,
      "outputs": [
        {
          "output_type": "stream",
          "name": "stdout",
          "text": [
            "Accuracy of the model:88.88888888888889%\n"
          ]
        }
      ]
    },
    {
      "cell_type": "markdown",
      "source": [
        "Predicting wheather new customer with Age and Salary  will Buy  or Not"
      ],
      "metadata": {
        "id": "mxyjgAtaCfTB"
      }
    },
    {
      "cell_type": "code",
      "source": [
        "age=int(input(\"Enter new customer's age:\"))\n",
        "salary=int(input(\"Enter new customer's salary:\"))\n",
        "newcustomer=[[age,salary]]\n",
        "result=model.predict(sc.transform(newcustomer))\n",
        "print(result)\n",
        "if result ==1:\n",
        "  print(\"This new customer will buy the product\")\n",
        "else:\n",
        "  print(\"This new customer won't buy\")"
      ],
      "metadata": {
        "colab": {
          "base_uri": "https://localhost:8080/"
        },
        "id": "Cg5TQCoaCn9K",
        "outputId": "50d56319-08e4-47ef-8688-d7cadca44476"
      },
      "execution_count": null,
      "outputs": [
        {
          "output_type": "stream",
          "name": "stdout",
          "text": [
            "Enter new customer's age:67\n",
            "Enter new customer's salary:3333333333\n",
            "[0]\n",
            "This new customer won't buy\n"
          ]
        }
      ]
    }
  ],
  "metadata": {
    "colab": {
      "provenance": []
    },
    "kernelspec": {
      "display_name": "Python 3",
      "name": "python3"
    },
    "language_info": {
      "name": "python"
    }
  },
  "nbformat": 4,
  "nbformat_minor": 0
}