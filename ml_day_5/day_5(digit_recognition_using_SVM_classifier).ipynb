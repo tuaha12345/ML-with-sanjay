{
  "nbformat": 4,
  "nbformat_minor": 0,
  "metadata": {
    "colab": {
      "provenance": []
    },
    "kernelspec": {
      "name": "python3",
      "display_name": "Python 3"
    },
    "language_info": {
      "name": "python"
    }
  },
  "cells": [
    {
      "cell_type": "markdown",
      "source": [
        "Importing Basic Libraries"
      ],
      "metadata": {
        "id": "9pL5g9N1Tiip"
      }
    },
    {
      "cell_type": "code",
      "source": [
        "import numpy as np\n",
        "from sklearn.datasets import load_digits #load dataset form sklearn"
      ],
      "metadata": {
        "id": "70jlAeBUTmPZ"
      },
      "execution_count": null,
      "outputs": []
    },
    {
      "cell_type": "markdown",
      "source": [
        "Load Dataset"
      ],
      "metadata": {
        "id": "IhQnvqDzT7Xh"
      }
    },
    {
      "cell_type": "code",
      "source": [
        "dataset=load_digits()"
      ],
      "metadata": {
        "id": "SfYIYnS_T9EK"
      },
      "execution_count": null,
      "outputs": []
    },
    {
      "cell_type": "markdown",
      "source": [
        "Summarize Dataset"
      ],
      "metadata": {
        "id": "fmnoxX47UHh5"
      }
    },
    {
      "cell_type": "code",
      "source": [
        "print(dataset.data)\n",
        "print(dataset.target)\n",
        "print(dataset.data.shape)\n",
        "print(dataset.images.shape)\n",
        "dataimageLength=len(dataset.images)\n",
        "print(dataimageLength)"
      ],
      "metadata": {
        "colab": {
          "base_uri": "https://localhost:8080/"
        },
        "id": "bmlkZTHYTvyx",
        "outputId": "10077cb1-e7d1-4147-8acd-7f077e791286"
      },
      "execution_count": null,
      "outputs": [
        {
          "output_type": "stream",
          "name": "stdout",
          "text": [
            "[[ 0.  0.  5. ...  0.  0.  0.]\n",
            " [ 0.  0.  0. ... 10.  0.  0.]\n",
            " [ 0.  0.  0. ... 16.  9.  0.]\n",
            " ...\n",
            " [ 0.  0.  1. ...  6.  0.  0.]\n",
            " [ 0.  0.  2. ... 12.  0.  0.]\n",
            " [ 0.  0. 10. ... 12.  1.  0.]]\n",
            "[0 1 2 ... 8 9 8]\n",
            "(1797, 64)\n",
            "(1797, 8, 8)\n",
            "1797\n"
          ]
        }
      ]
    },
    {
      "cell_type": "markdown",
      "source": [
        "Visualize the Dataset"
      ],
      "metadata": {
        "id": "lFve8Q3hU--K"
      }
    },
    {
      "cell_type": "code",
      "source": [
        "n=10 #No. of sample out of samples total 1797\n",
        "import matplotlib.pyplot as plt #data visualization\n",
        "plt.gray()\n",
        "plt.matshow(dataset.images[n])\n",
        "plt.show()\n",
        "dataset.images[n]"
      ],
      "metadata": {
        "colab": {
          "base_uri": "https://localhost:8080/",
          "height": 431
        },
        "id": "8eIRLr6PVBM4",
        "outputId": "ab48f3e0-9dd2-42f9-d565-6c9519a9552d"
      },
      "execution_count": null,
      "outputs": [
        {
          "output_type": "display_data",
          "data": {
            "text/plain": [
              "<Figure size 432x288 with 0 Axes>"
            ]
          },
          "metadata": {}
        },
        {
          "output_type": "display_data",
          "data": {
            "text/plain": [
              "<Figure size 288x288 with 1 Axes>"
            ],
            "image/png": "[encoded data removed]"
          },
          "metadata": {
            "needs_background": "light"
          }
        },
        {
          "output_type": "execute_result",
          "data": {
            "text/plain": [
              "array([[ 0.,  0.,  1.,  9., 15., 11.,  0.,  0.],\n",
              "       [ 0.,  0., 11., 16.,  8., 14.,  6.,  0.],\n",
              "       [ 0.,  2., 16., 10.,  0.,  9.,  9.,  0.],\n",
              "       [ 0.,  1., 16.,  4.,  0.,  8.,  8.,  0.],\n",
              "       [ 0.,  4., 16.,  4.,  0.,  8.,  8.,  0.],\n",
              "       [ 0.,  1., 16.,  5.,  1., 11.,  3.,  0.],\n",
              "       [ 0.,  0., 12., 12., 10., 10.,  0.,  0.],\n",
              "       [ 0.,  0.,  1., 10., 13.,  3.,  0.,  0.]])"
            ]
          },
          "metadata": {},
          "execution_count": 11
        }
      ]
    },
    {
      "cell_type": "markdown",
      "source": [
        "Segregate Dataset into X(input/independenet variable) & Y(outp8ut/dependent variable)"
      ],
      "metadata": {
        "id": "3FsnIsxCWdrB"
      }
    },
    {
      "cell_type": "code",
      "source": [
        "X=dataset.images.reshape((dataimageLength,-1))\n",
        "X"
      ],
      "metadata": {
        "colab": {
          "base_uri": "https://localhost:8080/"
        },
        "id": "UuEtBoDNWo3J",
        "outputId": "e28a9998-282f-4df5-ce36-28beec1ba7bd"
      },
      "execution_count": null,
      "outputs": [
        {
          "output_type": "execute_result",
          "data": {
            "text/plain": [
              "array([[ 0.,  0.,  5., ...,  0.,  0.,  0.],\n",
              "       [ 0.,  0.,  0., ..., 10.,  0.,  0.],\n",
              "       [ 0.,  0.,  0., ..., 16.,  9.,  0.],\n",
              "       ...,\n",
              "       [ 0.,  0.,  1., ...,  6.,  0.,  0.],\n",
              "       [ 0.,  0.,  2., ..., 12.,  0.,  0.],\n",
              "       [ 0.,  0., 10., ..., 12.,  1.,  0.]])"
            ]
          },
          "metadata": {},
          "execution_count": 13
        }
      ]
    },
    {
      "cell_type": "code",
      "source": [
        "Y=dataset.target\n",
        "Y"
      ],
      "metadata": {
        "colab": {
          "base_uri": "https://localhost:8080/"
        },
        "id": "REuvZl5DWxyY",
        "outputId": "ef958a43-f7a7-4a4d-e693-6c8ce586b6e2"
      },
      "execution_count": null,
      "outputs": [
        {
          "output_type": "execute_result",
          "data": {
            "text/plain": [
              "array([0, 1, 2, ..., 8, 9, 8])"
            ]
          },
          "metadata": {},
          "execution_count": 14
        }
      ]
    },
    {
      "cell_type": "markdown",
      "source": [
        "Splitting Dataset into Train & Test"
      ],
      "metadata": {
        "id": "BInMwuh1XAZ4"
      }
    },
    {
      "cell_type": "code",
      "source": [
        "from sklearn.model_selection import train_test_split\n",
        "X_train,X_test,y_train,y_test=train_test_split(X,Y,test_size=0.25,random_state=0)\n",
        "print(X_train.shape)\n",
        "print(X_test.shape)"
      ],
      "metadata": {
        "colab": {
          "base_uri": "https://localhost:8080/"
        },
        "id": "FkXocDZ-XHIA",
        "outputId": "41bbed29-0ba2-491b-ffa6-6c6dbf749944"
      },
      "execution_count": null,
      "outputs": [
        {
          "output_type": "stream",
          "name": "stdout",
          "text": [
            "(1347, 64)\n",
            "(450, 64)\n"
          ]
        }
      ]
    },
    {
      "cell_type": "markdown",
      "source": [
        "Training"
      ],
      "metadata": {
        "id": "ZWVAUL8KX5jg"
      }
    },
    {
      "cell_type": "code",
      "source": [
        "from sklearn import svm\n",
        "model=svm.SVC(gamma=0.001)\n",
        "model.fit(X_train,y_train)"
      ],
      "metadata": {
        "colab": {
          "base_uri": "https://localhost:8080/"
        },
        "id": "mHhMQeB6X7JI",
        "outputId": "ea5c1e38-0e72-43e0-8e8c-d024e6f6f34d"
      },
      "execution_count": null,
      "outputs": [
        {
          "output_type": "execute_result",
          "data": {
            "text/plain": [
              "SVC(gamma=0.001)"
            ]
          },
          "metadata": {},
          "execution_count": 18
        }
      ]
    },
    {
      "cell_type": "markdown",
      "source": [
        "Prediction for test data"
      ],
      "metadata": {
        "id": "Y6KZx94VYUE3"
      }
    },
    {
      "cell_type": "code",
      "source": [
        "y_pred=model.predict(X_test)\n"
      ],
      "metadata": {
        "id": "2AY-rSJoYW3H"
      },
      "execution_count": null,
      "outputs": []
    },
    {
      "cell_type": "markdown",
      "source": [
        "Evaluate Model-accuracy Score"
      ],
      "metadata": {
        "id": "VBO2WkRGYiOX"
      }
    },
    {
      "cell_type": "code",
      "source": [
        "from sklearn.metrics import accuracy_score\n",
        "print(\"Accuracy of the model:{0}%\".format(accuracy_score(y_test,y_pred)*100))"
      ],
      "metadata": {
        "colab": {
          "base_uri": "https://localhost:8080/"
        },
        "id": "NIRZZtLsYmXC",
        "outputId": "5fbf70f5-9374-4683-873b-7f2a749a1dcf"
      },
      "execution_count": null,
      "outputs": [
        {
          "output_type": "stream",
          "name": "stdout",
          "text": [
            "Accuracy of the model:99.55555555555556%\n"
          ]
        }
      ]
    },
    {
      "cell_type": "markdown",
      "source": [
        "Prediction what the digit is from Test Data"
      ],
      "metadata": {
        "id": "5hhH9dEQZa2w"
      }
    },
    {
      "cell_type": "code",
      "source": [
        "n=136\n",
        "result=model.predict(dataset.images[n].reshape((1,-1)))\n",
        "plt.imshow(dataset.images[n],cmap=plt.cm.gray_r,interpolation='nearest')\n",
        "print(result)\n",
        "print(\"\\n\")\n",
        "plt.axis('off')\n",
        "plt.title('%i' %result)\n",
        "plt.show()\n"
      ],
      "metadata": {
        "colab": {
          "base_uri": "https://localhost:8080/",
          "height": 316
        },
        "id": "EW9fT2CXZgUA",
        "outputId": "51e7c9d4-cc7a-4dae-d898-7d71a7008746"
      },
      "execution_count": null,
      "outputs": [
        {
          "output_type": "stream",
          "name": "stdout",
          "text": [
            "[6]\n",
            "\n",
            "\n"
          ]
        },
        {
          "output_type": "display_data",
          "data": {
            "text/plain": [
              "<Figure size 432x288 with 1 Axes>"
            ],
            "image/png": "[encoded data removed]"
          },
          "metadata": {
            "needs_background": "light"
          }
        }
      ]
    },
    {
      "cell_type": "markdown",
      "source": [
        "Play with the differnet method"
      ],
      "metadata": {
        "id": "jmuK6_I2a2xX"
      }
    },
    {
      "cell_type": "code",
      "source": [
        "from sklearn import svm\n",
        "model1=svm.SVC(kernel='linear')\n",
        "model3=svm.SVC(gamma=0.001)\n",
        "model4=svm.SVC(gamma=0.001,C=0.1)\n",
        "\n",
        "\n",
        "model1.fit(X_train,y_train)\n",
        "model3.fit(X_train,y_train)\n",
        "model4.fit(X_train,y_train)\n",
        "\n",
        "\n",
        "y_predModel1=model1.predict(X_test)\n",
        "y_predModel3=model3.predict(X_test)\n",
        "y_predModel4=model4.predict(X_test)\n",
        "\n",
        "\n",
        "print(\"Accuracy of the model:{0}%\".format(accuracy_score(y_test,y_predModel1)*100))\n",
        "print(\"Accuracy of the mode2:{0}%\".format(accuracy_score(y_test,y_predModel3)*100))\n",
        "print(\"Accuracy of the mode3:{0}%\".format(accuracy_score(y_test,y_predModel4)*100))"
      ],
      "metadata": {
        "colab": {
          "base_uri": "https://localhost:8080/"
        },
        "id": "C4EVzBNIa6Iw",
        "outputId": "c8bad1e8-2a03-4802-e3c8-9c49f7b8c9ed"
      },
      "execution_count": null,
      "outputs": [
        {
          "output_type": "stream",
          "name": "stdout",
          "text": [
            "Accuracy of the model:97.11111111111111%\n",
            "Accuracy of the mode2:99.55555555555556%\n",
            "Accuracy of the mode3:96.66666666666667%\n"
          ]
        }
      ]
    }
  ]
}